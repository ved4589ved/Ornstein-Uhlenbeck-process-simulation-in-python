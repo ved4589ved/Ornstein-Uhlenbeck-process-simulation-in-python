{
 "cells": [
  {
   "cell_type": "code",
   "execution_count": 46,
   "id": "8270cf54",
   "metadata": {},
   "outputs": [],
   "source": [
    "import pandas as pd\n",
    "import numpy as np\n",
    "from functools import reduce\n",
    "from scipy.optimize import minimize\n",
    "import matplotlib.pyplot as plt"
   ]
  },
  {
   "cell_type": "code",
   "execution_count": 8,
   "metadata": {},
   "outputs": [],
   "source": [
    "HINDUNILVR=pd.read_csv('HINDUNILVR.BO.csv').dropna() \n",
    "PGHH = pd.read_csv('PGHH.BO.csv').dropna()\n",
    "HAL= pd.read_csv('HAL.csv').dropna()\n",
    "COCHINSHIP = pd.read_csv('COCHINSHIP.NS.csv').dropna()\n",
    "SOLARINDS = pd.read_csv('SOLARINDS.NS.csv').dropna()\n",
    "ZENTEC = pd.read_csv('ZENTEC.NS.csv').dropna()\n",
    "\n",
    "# stock_3 = pd.read_csv('')"
   ]
  },
  {
   "cell_type": "code",
   "execution_count": 9,
   "id": "a2032b20",
   "metadata": {},
   "outputs": [],
   "source": [
    "stocks = [HINDUNILVR,PGHH,HAL,COCHINSHIP,SOLARINDS,ZENTEC]"
   ]
  },
  {
   "cell_type": "code",
   "execution_count": 3,
   "id": "905f5558",
   "metadata": {},
   "outputs": [],
   "source": [
    "HINDUNILVR['Date'] = pd.to_datetime(HINDUNILVR['Date'])\n",
    "PGHH['Date'] = pd.to_datetime(PGHH['Date'])\n",
    "HAL['Date'] = pd.to_datetime(HAL['Date'])\n",
    "COCHINSHIP['Date'] = pd.to_datetime(COCHINSHIP['Date'])\n",
    "SOLARINDS['Date'] = pd.to_datetime(SOLARINDS['Date'])\n",
    "ZENTEC['Date'] = pd.to_datetime(ZENTEC['Date'])"
   ]
  },
  {
   "cell_type": "code",
   "execution_count": 10,
   "id": "1617f4bc",
   "metadata": {},
   "outputs": [],
   "source": [
    "common_dates = reduce(lambda left, right: pd.merge(left, right, on='Date'), [stock[['Date']] for stock in stocks])\n"
   ]
  },
  {
   "cell_type": "code",
   "execution_count": 11,
   "id": "2fda0572",
   "metadata": {},
   "outputs": [],
   "source": [
    "stocks_common = [stock[stock['Date'].isin(common_dates['Date'])].reset_index(drop=True) for stock in stocks]"
   ]
  },
  {
   "cell_type": "code",
   "execution_count": 13,
   "id": "1a60646d",
   "metadata": {},
   "outputs": [
    {
     "data": {
      "text/html": [
       "<div>\n",
       "<style scoped>\n",
       "    .dataframe tbody tr th:only-of-type {\n",
       "        vertical-align: middle;\n",
       "    }\n",
       "\n",
       "    .dataframe tbody tr th {\n",
       "        vertical-align: top;\n",
       "    }\n",
       "\n",
       "    .dataframe thead th {\n",
       "        text-align: right;\n",
       "    }\n",
       "</style>\n",
       "<table border=\"1\" class=\"dataframe\">\n",
       "  <thead>\n",
       "    <tr style=\"text-align: right;\">\n",
       "      <th></th>\n",
       "      <th>Date</th>\n",
       "      <th>Open</th>\n",
       "      <th>High</th>\n",
       "      <th>Low</th>\n",
       "      <th>Close</th>\n",
       "      <th>Adj Close</th>\n",
       "      <th>Volume</th>\n",
       "    </tr>\n",
       "  </thead>\n",
       "  <tbody>\n",
       "    <tr>\n",
       "      <th>0</th>\n",
       "      <td>2023-08-07</td>\n",
       "      <td>15400.049805</td>\n",
       "      <td>15666.250000</td>\n",
       "      <td>15400.049805</td>\n",
       "      <td>15506.049805</td>\n",
       "      <td>15267.430664</td>\n",
       "      <td>69.0</td>\n",
       "    </tr>\n",
       "    <tr>\n",
       "      <th>1</th>\n",
       "      <td>2023-08-08</td>\n",
       "      <td>15619.400391</td>\n",
       "      <td>15750.000000</td>\n",
       "      <td>15582.799805</td>\n",
       "      <td>15658.599609</td>\n",
       "      <td>15417.632813</td>\n",
       "      <td>153.0</td>\n",
       "    </tr>\n",
       "    <tr>\n",
       "      <th>2</th>\n",
       "      <td>2023-08-09</td>\n",
       "      <td>15679.849609</td>\n",
       "      <td>15720.700195</td>\n",
       "      <td>15470.000000</td>\n",
       "      <td>15484.549805</td>\n",
       "      <td>15246.261719</td>\n",
       "      <td>120.0</td>\n",
       "    </tr>\n",
       "    <tr>\n",
       "      <th>3</th>\n",
       "      <td>2023-08-10</td>\n",
       "      <td>15484.000000</td>\n",
       "      <td>15637.750000</td>\n",
       "      <td>15484.000000</td>\n",
       "      <td>15607.000000</td>\n",
       "      <td>15366.827148</td>\n",
       "      <td>28.0</td>\n",
       "    </tr>\n",
       "    <tr>\n",
       "      <th>4</th>\n",
       "      <td>2023-08-11</td>\n",
       "      <td>15507.049805</td>\n",
       "      <td>15580.000000</td>\n",
       "      <td>15237.599609</td>\n",
       "      <td>15286.900391</td>\n",
       "      <td>15051.653320</td>\n",
       "      <td>75.0</td>\n",
       "    </tr>\n",
       "    <tr>\n",
       "      <th>...</th>\n",
       "      <td>...</td>\n",
       "      <td>...</td>\n",
       "      <td>...</td>\n",
       "      <td>...</td>\n",
       "      <td>...</td>\n",
       "      <td>...</td>\n",
       "      <td>...</td>\n",
       "    </tr>\n",
       "    <tr>\n",
       "      <th>230</th>\n",
       "      <td>2024-07-31</td>\n",
       "      <td>17038.150391</td>\n",
       "      <td>17075.099609</td>\n",
       "      <td>16853.050781</td>\n",
       "      <td>16905.650391</td>\n",
       "      <td>16905.650391</td>\n",
       "      <td>6044.0</td>\n",
       "    </tr>\n",
       "    <tr>\n",
       "      <th>231</th>\n",
       "      <td>2024-08-01</td>\n",
       "      <td>16855.800781</td>\n",
       "      <td>16974.050781</td>\n",
       "      <td>16467.000000</td>\n",
       "      <td>16778.400391</td>\n",
       "      <td>16778.400391</td>\n",
       "      <td>862.0</td>\n",
       "    </tr>\n",
       "    <tr>\n",
       "      <th>232</th>\n",
       "      <td>2024-08-02</td>\n",
       "      <td>17076.949219</td>\n",
       "      <td>17337.449219</td>\n",
       "      <td>16700.000000</td>\n",
       "      <td>17200.849609</td>\n",
       "      <td>17200.849609</td>\n",
       "      <td>293.0</td>\n",
       "    </tr>\n",
       "    <tr>\n",
       "      <th>233</th>\n",
       "      <td>2024-08-05</td>\n",
       "      <td>17199.949219</td>\n",
       "      <td>17199.949219</td>\n",
       "      <td>16424.000000</td>\n",
       "      <td>16686.199219</td>\n",
       "      <td>16686.199219</td>\n",
       "      <td>562.0</td>\n",
       "    </tr>\n",
       "    <tr>\n",
       "      <th>234</th>\n",
       "      <td>2024-08-06</td>\n",
       "      <td>16916.900391</td>\n",
       "      <td>16990.650391</td>\n",
       "      <td>16745.099609</td>\n",
       "      <td>16835.599609</td>\n",
       "      <td>16835.599609</td>\n",
       "      <td>139.0</td>\n",
       "    </tr>\n",
       "  </tbody>\n",
       "</table>\n",
       "<p>235 rows × 7 columns</p>\n",
       "</div>"
      ],
      "text/plain": [
       "           Date          Open          High           Low         Close  \\\n",
       "0    2023-08-07  15400.049805  15666.250000  15400.049805  15506.049805   \n",
       "1    2023-08-08  15619.400391  15750.000000  15582.799805  15658.599609   \n",
       "2    2023-08-09  15679.849609  15720.700195  15470.000000  15484.549805   \n",
       "3    2023-08-10  15484.000000  15637.750000  15484.000000  15607.000000   \n",
       "4    2023-08-11  15507.049805  15580.000000  15237.599609  15286.900391   \n",
       "..          ...           ...           ...           ...           ...   \n",
       "230  2024-07-31  17038.150391  17075.099609  16853.050781  16905.650391   \n",
       "231  2024-08-01  16855.800781  16974.050781  16467.000000  16778.400391   \n",
       "232  2024-08-02  17076.949219  17337.449219  16700.000000  17200.849609   \n",
       "233  2024-08-05  17199.949219  17199.949219  16424.000000  16686.199219   \n",
       "234  2024-08-06  16916.900391  16990.650391  16745.099609  16835.599609   \n",
       "\n",
       "        Adj Close  Volume  \n",
       "0    15267.430664    69.0  \n",
       "1    15417.632813   153.0  \n",
       "2    15246.261719   120.0  \n",
       "3    15366.827148    28.0  \n",
       "4    15051.653320    75.0  \n",
       "..            ...     ...  \n",
       "230  16905.650391  6044.0  \n",
       "231  16778.400391   862.0  \n",
       "232  17200.849609   293.0  \n",
       "233  16686.199219   562.0  \n",
       "234  16835.599609   139.0  \n",
       "\n",
       "[235 rows x 7 columns]"
      ]
     },
     "execution_count": 13,
     "metadata": {},
     "output_type": "execute_result"
    }
   ],
   "source": [
    "stocks_common[1]"
   ]
  },
  {
   "cell_type": "code",
   "execution_count": 14,
   "id": "3b709488",
   "metadata": {},
   "outputs": [],
   "source": [
    "corr_data = pd.DataFrame()"
   ]
  },
  {
   "cell_type": "code",
   "execution_count": 15,
   "id": "1aa5a640",
   "metadata": {},
   "outputs": [],
   "source": [
    "corr_data['HINDUNILVR'] = stocks_common[0]['Open'].values\n",
    "corr_data['PGHH'] = stocks_common[1]['Open'].values\n",
    "corr_data['HAL'] = stocks_common[2]['Open'].values\n",
    "corr_data['COCHINSHIP'] = stocks_common[3]['Open'].values\n",
    "corr_data['SOLARINDS'] = stocks_common[4]['Open'].values\n",
    "corr_data['ZENTEC'] = stocks_common[5]['Open'].values"
   ]
  },
  {
   "cell_type": "code",
   "execution_count": 16,
   "id": "e9884e4e",
   "metadata": {},
   "outputs": [
    {
     "data": {
      "text/html": [
       "<div>\n",
       "<style scoped>\n",
       "    .dataframe tbody tr th:only-of-type {\n",
       "        vertical-align: middle;\n",
       "    }\n",
       "\n",
       "    .dataframe tbody tr th {\n",
       "        vertical-align: top;\n",
       "    }\n",
       "\n",
       "    .dataframe thead th {\n",
       "        text-align: right;\n",
       "    }\n",
       "</style>\n",
       "<table border=\"1\" class=\"dataframe\">\n",
       "  <thead>\n",
       "    <tr style=\"text-align: right;\">\n",
       "      <th></th>\n",
       "      <th>HINDUNILVR</th>\n",
       "      <th>PGHH</th>\n",
       "      <th>HAL</th>\n",
       "      <th>COCHINSHIP</th>\n",
       "      <th>SOLARINDS</th>\n",
       "      <th>ZENTEC</th>\n",
       "    </tr>\n",
       "  </thead>\n",
       "  <tbody>\n",
       "    <tr>\n",
       "      <th>HINDUNILVR</th>\n",
       "      <td>1.000000</td>\n",
       "      <td>0.425552</td>\n",
       "      <td>-0.251206</td>\n",
       "      <td>0.149375</td>\n",
       "      <td>-0.101327</td>\n",
       "      <td>0.163599</td>\n",
       "    </tr>\n",
       "    <tr>\n",
       "      <th>PGHH</th>\n",
       "      <td>0.425552</td>\n",
       "      <td>1.000000</td>\n",
       "      <td>0.076093</td>\n",
       "      <td>-0.160817</td>\n",
       "      <td>-0.185459</td>\n",
       "      <td>-0.208633</td>\n",
       "    </tr>\n",
       "    <tr>\n",
       "      <th>HAL</th>\n",
       "      <td>-0.251206</td>\n",
       "      <td>0.076093</td>\n",
       "      <td>1.000000</td>\n",
       "      <td>-0.638361</td>\n",
       "      <td>-0.629278</td>\n",
       "      <td>-0.520629</td>\n",
       "    </tr>\n",
       "    <tr>\n",
       "      <th>COCHINSHIP</th>\n",
       "      <td>0.149375</td>\n",
       "      <td>-0.160817</td>\n",
       "      <td>-0.638361</td>\n",
       "      <td>1.000000</td>\n",
       "      <td>0.914582</td>\n",
       "      <td>0.902243</td>\n",
       "    </tr>\n",
       "    <tr>\n",
       "      <th>SOLARINDS</th>\n",
       "      <td>-0.101327</td>\n",
       "      <td>-0.185459</td>\n",
       "      <td>-0.629278</td>\n",
       "      <td>0.914582</td>\n",
       "      <td>1.000000</td>\n",
       "      <td>0.822717</td>\n",
       "    </tr>\n",
       "    <tr>\n",
       "      <th>ZENTEC</th>\n",
       "      <td>0.163599</td>\n",
       "      <td>-0.208633</td>\n",
       "      <td>-0.520629</td>\n",
       "      <td>0.902243</td>\n",
       "      <td>0.822717</td>\n",
       "      <td>1.000000</td>\n",
       "    </tr>\n",
       "  </tbody>\n",
       "</table>\n",
       "</div>"
      ],
      "text/plain": [
       "            HINDUNILVR      PGHH       HAL  COCHINSHIP  SOLARINDS    ZENTEC\n",
       "HINDUNILVR    1.000000  0.425552 -0.251206    0.149375  -0.101327  0.163599\n",
       "PGHH          0.425552  1.000000  0.076093   -0.160817  -0.185459 -0.208633\n",
       "HAL          -0.251206  0.076093  1.000000   -0.638361  -0.629278 -0.520629\n",
       "COCHINSHIP    0.149375 -0.160817 -0.638361    1.000000   0.914582  0.902243\n",
       "SOLARINDS    -0.101327 -0.185459 -0.629278    0.914582   1.000000  0.822717\n",
       "ZENTEC        0.163599 -0.208633 -0.520629    0.902243   0.822717  1.000000"
      ]
     },
     "execution_count": 16,
     "metadata": {},
     "output_type": "execute_result"
    }
   ],
   "source": [
    "corr_data.corr()"
   ]
  },
  {
   "cell_type": "markdown",
   "id": "fb4c1558",
   "metadata": {},
   "source": [
    "- solarwind and coachinship is very correlated so we can chhose these for pair trading "
   ]
  },
  {
   "cell_type": "code",
   "execution_count": 22,
   "id": "c4788489",
   "metadata": {},
   "outputs": [],
   "source": [
    "res_data = corr_data['SOLARINDS'] - corr_data['COCHINSHIP']"
   ]
  },
  {
   "cell_type": "markdown",
   "id": "e8fa0d60",
   "metadata": {},
   "source": [
    "- we need to minimize the variance of spread \n",
    "- spread is given by $ price_{cochinship} - \\beta *price_{solarwind} $\n",
    "- we will use the optimizer libaray for this pupose"
   ]
  },
  {
   "cell_type": "code",
   "execution_count": 25,
   "id": "8ef971bf",
   "metadata": {},
   "outputs": [
    {
     "name": "stdout",
     "output_type": "stream",
     "text": [
      "Optimal Hedge Ratio (Beta): 0.3003793401536033\n"
     ]
    }
   ],
   "source": [
    "def spread_variance(beta, P1, P2):\n",
    "    spread = P1 - beta * P2\n",
    "    return np.var(spread)\n",
    "\n",
    "# Step 3: Minimize the variance of the spread\n",
    "result = minimize(spread_variance, x0=1, args=(corr_data['COCHINSHIP'], corr_data['SOLARINDS']), method='BFGS')\n",
    "\n",
    "# Optimal beta\n",
    "beta_optimal = result.x[0]\n",
    "\n",
    "print(\"Optimal Hedge Ratio (Beta):\", beta_optimal)"
   ]
  },
  {
   "cell_type": "code",
   "execution_count": 26,
   "id": "5037f483",
   "metadata": {},
   "outputs": [],
   "source": [
    "spread = corr_data['COCHINSHIP'] - beta_optimal *  corr_data['SOLARINDS']"
   ]
  },
  {
   "cell_type": "markdown",
   "id": "f78726c7",
   "metadata": {},
   "source": [
    "- estimating the parameter of the mu, theta and sigma, we will calculate the log liklihood of the data given OU process"
   ]
  },
  {
   "cell_type": "code",
   "execution_count": 29,
   "id": "ed374ff4",
   "metadata": {},
   "outputs": [],
   "source": [
    "def OU_log_likelihood(params, spread):\n",
    "    mu, theta, sigma = params\n",
    "    dt = 1  # Assuming the data is daily\n",
    "    S_diff = np.diff(spread)\n",
    "    S_shifted = spread[:-1]\n",
    "    likelihood = -np.sum(np.log(sigma * np.sqrt(2 * np.pi * dt)) +\n",
    "                         ((S_diff - theta * (mu - S_shifted) * dt)**2) / (2 * sigma**2 * dt))\n",
    "    return -likelihood"
   ]
  },
  {
   "cell_type": "code",
   "execution_count": 30,
   "id": "07eb8c4c",
   "metadata": {},
   "outputs": [
    {
     "name": "stderr",
     "output_type": "stream",
     "text": [
      "C:\\Users\\E080965\\AppData\\Local\\Temp\\ipykernel_10700\\883733649.py:6: RuntimeWarning: invalid value encountered in log\n",
      "  likelihood = -np.sum(np.log(sigma * np.sqrt(2 * np.pi * dt)) +\n"
     ]
    }
   ],
   "source": [
    "params_initial = [np.mean(spread), 0.5, np.std(spread)]\n",
    "result = minimize(OU_log_likelihood, params_initial, args=(spread,), method='L-BFGS-B')\n",
    "mu_ou, theta_ou, sigma_ou = result.x"
   ]
  },
  {
   "cell_type": "code",
   "execution_count": 33,
   "id": "1ab30bb3",
   "metadata": {},
   "outputs": [
    {
     "name": "stdout",
     "output_type": "stream",
     "text": [
      "Estimated OU parameters: mu=-1148.3496484422458, theta=-0.6771845007682855, sigma=-4.937730001689374\n"
     ]
    }
   ],
   "source": [
    "print(f\"Estimated OU parameters: mu={mu_ou}, theta={theta_ou}, sigma={sigma_ou}\")"
   ]
  },
  {
   "cell_type": "code",
   "execution_count": 86,
   "id": "0f422830",
   "metadata": {},
   "outputs": [],
   "source": [
    "k = 1.5\n",
    "upper_bound = mu_ou + k * sigma_ou\n",
    "lower_bound = mu_ou - k * sigma_ou"
   ]
  },
  {
   "cell_type": "code",
   "execution_count": 87,
   "id": "5d3864fa",
   "metadata": {},
   "outputs": [
    {
     "data": {
      "text/plain": [
       "-1155.7562434447798"
      ]
     },
     "execution_count": 87,
     "metadata": {},
     "output_type": "execute_result"
    }
   ],
   "source": [
    "upper_bound"
   ]
  },
  {
   "cell_type": "code",
   "execution_count": 88,
   "id": "4f3e7653",
   "metadata": {},
   "outputs": [
    {
     "data": {
      "text/plain": [
       "-1140.9430534397118"
      ]
     },
     "execution_count": 88,
     "metadata": {},
     "output_type": "execute_result"
    }
   ],
   "source": [
    "lower_bound"
   ]
  },
  {
   "cell_type": "code",
   "execution_count": 89,
   "id": "0a80d560",
   "metadata": {},
   "outputs": [
    {
     "data": {
      "text/plain": [
       "-1900.315179076396"
      ]
     },
     "execution_count": 89,
     "metadata": {},
     "output_type": "execute_result"
    }
   ],
   "source": [
    "spread.min()"
   ]
  },
  {
   "cell_type": "code",
   "execution_count": 90,
   "id": "7ea5e4d6",
   "metadata": {},
   "outputs": [
    {
     "data": {
      "text/plain": [
       "-586.9257035105893"
      ]
     },
     "execution_count": 90,
     "metadata": {},
     "output_type": "execute_result"
    }
   ],
   "source": [
    "spread.max()"
   ]
  },
  {
   "cell_type": "code",
   "execution_count": 111,
   "id": "73dac66f",
   "metadata": {},
   "outputs": [],
   "source": [
    "positions = []\n",
    "for S in spread:\n",
    "    if S > upper_bound:\n",
    "        positions.append(-1)  # Short spread ==> \n",
    "    elif S < lower_bound:\n",
    "        positions.append(1)   # Long spread\n",
    "    else:\n",
    "        positions.append(0)   # Hold"
   ]
  },
  {
   "cell_type": "code",
   "execution_count": 113,
   "id": "a34253a0",
   "metadata": {},
   "outputs": [],
   "source": [
    "# Convert positions to a numpy array\n",
    "positions = np.array(positions)"
   ]
  },
  {
   "cell_type": "code",
   "execution_count": 114,
   "id": "e38cde28",
   "metadata": {},
   "outputs": [],
   "source": [
    "# Step 5: Backtest the Strategy\n",
    "# Calculate the daily returns\n",
    "P1_returns = np.diff(corr_data['COCHINSHIP']) / corr_data['COCHINSHIP'][:-1]\n",
    "P2_returns = np.diff(corr_data['SOLARINDS']) / corr_data['SOLARINDS'][:-1]\n",
    "spread_returns = P1_returns - beta_optimal * P2_returns\n"
   ]
  },
  {
   "cell_type": "code",
   "execution_count": 115,
   "id": "73514709",
   "metadata": {},
   "outputs": [],
   "source": [
    "strategy_returns = positions[:-1] * spread_returns"
   ]
  },
  {
   "cell_type": "code",
   "execution_count": 117,
   "id": "6774e57d",
   "metadata": {},
   "outputs": [],
   "source": [
    "cumulative_returns = np.cumsum(strategy_returns)"
   ]
  },
  {
   "cell_type": "code",
   "execution_count": 119,
   "id": "579a7708",
   "metadata": {},
   "outputs": [
    {
     "data": {
      "image/png": "[encoded data removed]",
      "text/plain": [
       "<Figure size 1000x600 with 1 Axes>"
      ]
     },
     "metadata": {},
     "output_type": "display_data"
    }
   ],
   "source": [
    "plt.figure(figsize=(10, 6))\n",
    "plt.plot(cumulative_returns, label=\"Strategy Cumulative Returns\")\n",
    "plt.axhline(y=0, color='r', linestyle='--')\n",
    "plt.title(\"Pair Trading Strategy Cumulative Returns\")\n",
    "plt.xlabel(\"Time\")\n",
    "plt.ylabel(\"Cumulative Returns\")\n",
    "plt.legend()\n",
    "plt.show()"
   ]
  },
  {
   "cell_type": "code",
   "execution_count": 120,
   "id": "2b6fe9ef",
   "metadata": {},
   "outputs": [
    {
     "name": "stdout",
     "output_type": "stream",
     "text": [
      "Sharpe Ratio: 1.072310125549421\n",
      "Max Drawdown: -0.6474032031754333\n"
     ]
    }
   ],
   "source": [
    "sharpe_ratio = np.mean(strategy_returns) / np.std(strategy_returns) * np.sqrt(252)  # Annualized Sharpe Ratio\n",
    "max_drawdown = np.min(cumulative_returns - np.maximum.accumulate(cumulative_returns))\n",
    "\n",
    "print(f\"Sharpe Ratio: {sharpe_ratio}\")\n",
    "print(f\"Max Drawdown: {max_drawdown}\")"
   ]
  }
 ],
 "metadata": {
  "kernelspec": {
   "display_name": "base",
   "language": "python",
   "name": "python3"
  },
  "language_info": {
   "codemirror_mode": {
    "name": "ipython",
    "version": 3
   },
   "file_extension": ".py",
   "mimetype": "text/x-python",
   "name": "python",
   "nbconvert_exporter": "python",
   "pygments_lexer": "ipython3",
   "version": "3.10.10"
  }
 },
 "nbformat": 4,
 "nbformat_minor": 5
}
