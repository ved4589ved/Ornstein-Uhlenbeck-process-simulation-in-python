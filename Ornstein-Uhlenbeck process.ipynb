{
 "cells": [
  {
   "cell_type": "markdown",
   "metadata": {},
   "source": [
    "#### The Ornstein-Uhlenbeck process is defined by the following SDE:\n",
    "\n",
    "$ dX_{t} = \\theta(\\mu-X_t)dt + \\sigma(dW_t) $\n",
    "\n",
    "where $\\mu$ is the log term mean, \n",
    "$\\theta$ is the rate of mean inversion, $\\sigma$ is the volatility, $dW_t$ is the Wiener process (or standard Brownian motion)\n",
    "\n",
    "<B> Solution to the above equation can be estimated by the Euler-Maruyama method :</B>\n",
    "\n",
    "$X_{t+\\delta t } = X_t + \\theta (\\mu - X_t)\\delta t + \\sigma \\sqrt{\\delta t} Z_t$ \n",
    "\n",
    "where $Z_t$ is the gaussian process \n",
    "\n",
    "let's do a phython simulation of the above equation to how how the plot look for different parameter \n"
   ]
  },
  {
   "cell_type": "markdown",
   "metadata": {},
   "source": [
    "make a interactive plot with different parameter "
   ]
  },
  {
   "cell_type": "code",
   "execution_count": 1,
   "metadata": {},
   "outputs": [
    {
     "data": {
      "application/vnd.jupyter.widget-view+json": {
       "model_id": "30eb600351014cfda8a62d3bcb6f0ca0",
       "version_major": 2,
       "version_minor": 0
      },
      "text/plain": [
       "interactive(children=(FloatSlider(value=0.7, description='$\\\\theta$', max=2.0, min=0.1), FloatSlider(value=1.0…"
      ]
     },
     "metadata": {},
     "output_type": "display_data"
    }
   ],
   "source": [
    "import numpy as np\n",
    "import matplotlib.pyplot as plt\n",
    "import ipywidgets as widgets\n",
    "from ipywidgets import interact, fixed\n",
    "\n",
    "# Function to simulate the OU process using Euler-Maruyama method\n",
    "def simulate_ou_process(theta, mu, sigma, X0, T, N):\n",
    "    dt = T / N    # Time step size\n",
    "    t = np.linspace(0, T, N+1)  # Time grid\n",
    "    X = np.zeros(N+1)  # Array to store the process\n",
    "    X[0] = X0\n",
    "    Z = np.random.normal(0, 1, N)  # Generate random variables\n",
    "\n",
    "    # Euler-Maruyama iteration\n",
    "    for i in range(1, N+1):\n",
    "        X[i] = X[i-1] + theta * (mu - X[i-1]) * dt + sigma * np.sqrt(dt) * Z[i-1]\n",
    "\n",
    "    return t, X\n",
    "\n",
    "# Function to plot the OU process\n",
    "def plot_ou_process(theta, mu, sigma, X0, T, N):\n",
    "    t, X = simulate_ou_process(theta, mu, sigma, X0, T, N)\n",
    "    plt.figure(figsize=(10, 6))\n",
    "    plt.plot(t, X, label=f'OU Process ($\\\\theta$={theta}, $\\\\mu$={mu}, $\\\\sigma$={sigma})')\n",
    "    plt.xlabel('Time')\n",
    "    plt.ylabel('X(t)')\n",
    "    plt.title('Euler-Maruyama Approximation of the OU Process')\n",
    "    plt.legend()\n",
    "    plt.grid(True)\n",
    "    plt.show()\n",
    "\n",
    "# Interactive widgets\n",
    "theta_slider = widgets.FloatSlider(value=0.7, min=0.1, max=2.0, step=0.1, description='$\\\\theta$')\n",
    "mu_slider = widgets.FloatSlider(value=1.0, min=0.0, max=5.0, step=0.1, description='$\\\\mu$')\n",
    "sigma_slider = widgets.FloatSlider(value=0.3, min=0.1, max=1.0, step=0.1, description='$\\\\sigma$')\n",
    "X0_slider = widgets.FloatSlider(value=0.5, min=-1.0, max=1.0, step=0.1, description='$X_0$')\n",
    "T_slider = widgets.FloatSlider(value=1.0, min=0.1, max=5.0, step=0.1, description='$T$')\n",
    "N_slider = widgets.IntSlider(value=1000, min=100, max=5000, step=100, description='$N$')\n",
    "\n",
    "interact(plot_ou_process, theta=theta_slider, mu=mu_slider, sigma=sigma_slider, X0=X0_slider, T=T_slider, N=N_slider);\n"
   ]
  }
 ],
 "metadata": {
  "kernelspec": {
   "display_name": "base",
   "language": "python",
   "name": "python3"
  },
  "language_info": {
   "codemirror_mode": {
    "name": "ipython",
    "version": 3
   },
   "file_extension": ".py",
   "mimetype": "text/x-python",
   "name": "python",
   "nbconvert_exporter": "python",
   "pygments_lexer": "ipython3",
   "version": "3.10.10"
  }
 },
 "nbformat": 4,
 "nbformat_minor": 2
}
